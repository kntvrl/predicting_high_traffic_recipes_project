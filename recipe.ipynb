{
 "cells": [
  {
   "cell_type": "markdown",
   "metadata": {},
   "source": [
    "**Data Validation**"
   ]
  },
  {
   "cell_type": "markdown",
   "metadata": {},
   "source": [
    "This data set has 947 rows, 8 columns. I have validated all variables and I have made some changes after validation.\n",
    "\n",
    "1. recipe: recipe is the unique numeric identifier as described in the data dictionary. The values range sequentially from 1 to 947 without missing values. Type of variable is integer. No cleaning is needed\n",
    "   \n",
    "2. category:  category is the type of recipe. Unlike expected, it consists of 11 unique groups without missing values. Additionally, the chicken breast group was identified. As a result category names are Pork,Potato, Breakfast, Beverages, One Dish Meal, Chicken Breast, Lunch/Snacks, Chicken, Vegetable, Meat and Dessert. Object type of variable of the dataframe converted to nominal category type.\n",
    "   \n",
    "3. servings: Number of servings for the recipe.In the dataframe this variable appears as an object without missing values, which should be numeric. It has also some inconsistent records like '4 as a snack', '6 as a snack'. In order to clean the data, the inconsistent records were first replaced with their numerical equivalents and then converted to integer. After cleaning stage, serving groups are 1, 2, 4 and 6.\n",
    "   \n",
    "4. high_traffic: in the data dictionary it described as \"if the traffic to the site was high when this recipe was shown, this is marked with “High”\". \n",
    "   - Values defined as 'High' were seen. Additionally, missing NaN values detected. \n",
    "   - There are 574 High Values and 373 NaN (missing) values.\n",
    "   - In this case, it seems that the NaN values here represent normal traffic. Therefore, I filled the NaN values to Normal for now. In the following stages it will be our target variable, I will apply the preprocessing step to this   column again.\n",
    "   - As a result, There are 574 High traffic values and 373 Normal traffic values. \n",
    "  \n",
    "5. calories: Numeric number of calories as expected. But it has 52 missing values. Type of variable is float64.\n",
    "   \n",
    "6. carbohydrate: Numeric, amount of carbohydrates in grams as expected. But it has 52 missing values. Type of variable is float64.\n",
    "   \n",
    "7. sugar: Numeric, amount of sugar in grams as expected. But it has 52 missing values. Type of variable is float64.\n",
    "\n",
    "8. protein: Numeric, amount of protein in grams as expected. But it has 52 missing values. Type of variable is float64.\n",
    "\n",
    "Missing values that occurred simultaneously in items 5, 6, 7 and 8 were detected. For this reason, calories, carbohydrate, sugar and protein variables were evaluated together.\n",
    "\n",
    "Conclusion:\n",
    "\n",
    "- Missing data were examined categorically and on a target variable basis. According to this;\n",
    "1. Missing data occurred simultaneously in the variables calories, carbohydrate, sugar and protein and is in 52 rows.\n",
    "2. Missing data occurred in the categories Pork,Potato, One Dish Meal, Chicken Breast, Lunch/Snacks, Chicken, Vegetable, Meat and Dessert. There is no missing data in the Breakfast and Beverages categories.\n",
    "3. In the high_traffic variable, 39 of the missing data are in the High category and 13 of them are in the Normal category.\n",
    "\n",
    "The reason why missing data are in certain categories and numerical variables are present at the same time may be due to a systematic error in the data collection phase in the relevant categories.\n",
    "\n",
    "Since the missing data was in the calories, carbohydrate, sugar and protein variables at the same time, and because it was approximately 5% of the entire data set, and finally, deleting it would not affect the class balance in the target variable high_traffic, I cleaned these missing data by removing them from the data set. \n",
    "\n",
    "After the cleaning stage the cleaned data has 895 rows and 8 columns without missing values."
   ]
  },
  {
   "cell_type": "code",
   "execution_count": 1,
   "metadata": {},
   "outputs": [],
   "source": [
    "import warnings\n",
    "warnings.filterwarnings(\"ignore\")\n",
    "import missingno as msno\n",
    "%matplotlib inline\n",
    "import numpy as np\n",
    "import pandas as pd\n",
    "import matplotlib.pyplot as plt\n",
    "import seaborn as sns\n",
    "from sklearn.model_selection import KFold,train_test_split\n",
    "from sklearn.preprocessing import StandardScaler\n",
    "from sklearn.linear_model import LogisticRegression\n",
    "from sklearn.ensemble import RandomForestClassifier\n",
    "from sklearn.metrics import mean_absolute_error,make_scorer\n",
    "from sklearn.preprocessing import LabelEncoder\n",
    "from sklearn.pipeline import Pipeline\n",
    "from sklearn.feature_selection import RFE,SelectKBest,f_regression\n",
    "from sklearn.decomposition import PCA\n",
    "import xgboost as xgb\n",
    "from hyperopt import fmin, tpe, hp, Trials\n",
    "from tqdm import tqdm\n",
    "pd.set_option('display.max_rows', None)\n",
    "plt.style.use('ggplot')"
   ]
  },
  {
   "cell_type": "code",
   "execution_count": 2,
   "metadata": {},
   "outputs": [
    {
     "name": "stdout",
     "output_type": "stream",
     "text": [
      "<class 'pandas.core.frame.DataFrame'>\n",
      "RangeIndex: 947 entries, 0 to 946\n",
      "Data columns (total 8 columns):\n",
      " #   Column        Non-Null Count  Dtype  \n",
      "---  ------        --------------  -----  \n",
      " 0   recipe        947 non-null    int64  \n",
      " 1   calories      895 non-null    float64\n",
      " 2   carbohydrate  895 non-null    float64\n",
      " 3   sugar         895 non-null    float64\n",
      " 4   protein       895 non-null    float64\n",
      " 5   category      947 non-null    object \n",
      " 6   servings      947 non-null    object \n",
      " 7   high_traffic  574 non-null    object \n",
      "dtypes: float64(4), int64(1), object(3)\n",
      "memory usage: 59.3+ KB\n"
     ]
    }
   ],
   "source": [
    "df = pd.read_csv('data/recipe_site_traffic_2212.csv')\n",
    "df.info()"
   ]
  },
  {
   "cell_type": "code",
   "execution_count": 3,
   "metadata": {},
   "outputs": [
    {
     "data": {
      "text/plain": [
       "(947, 8)"
      ]
     },
     "execution_count": 3,
     "metadata": {},
     "output_type": "execute_result"
    }
   ],
   "source": [
    "df.shape"
   ]
  },
  {
   "cell_type": "markdown",
   "metadata": {},
   "source": [
    "**1. Reecipe Variable**"
   ]
  },
  {
   "cell_type": "code",
   "execution_count": 4,
   "metadata": {},
   "outputs": [
    {
     "data": {
      "text/plain": [
       "947"
      ]
     },
     "execution_count": 4,
     "metadata": {},
     "output_type": "execute_result"
    }
   ],
   "source": [
    "# validate 947 unique values\n",
    "df[\"recipe\"].nunique()"
   ]
  },
  {
   "cell_type": "markdown",
   "metadata": {},
   "source": [
    "**2. Category Variable**"
   ]
  },
  {
   "cell_type": "code",
   "execution_count": 5,
   "metadata": {},
   "outputs": [
    {
     "data": {
      "text/plain": [
       "category\n",
       "Breakfast         106\n",
       "Chicken Breast     98\n",
       "Beverages          92\n",
       "Lunch/Snacks       89\n",
       "Potato             88\n",
       "Pork               84\n",
       "Dessert            83\n",
       "Vegetable          83\n",
       "Meat               79\n",
       "Chicken            74\n",
       "One Dish Meal      71\n",
       "Name: count, dtype: int64"
      ]
     },
     "execution_count": 5,
     "metadata": {},
     "output_type": "execute_result"
    }
   ],
   "source": [
    "# validate 11 categories\n",
    "df[\"category\"]= df[\"category\"].astype('category')\n",
    "df[\"category\"].value_counts()"
   ]
  },
  {
   "cell_type": "markdown",
   "metadata": {},
   "source": [
    "**3. Servings Variable:**"
   ]
  },
  {
   "cell_type": "code",
   "execution_count": 6,
   "metadata": {},
   "outputs": [
    {
     "data": {
      "text/plain": [
       "servings\n",
       "4               389\n",
       "6               197\n",
       "2               183\n",
       "1               175\n",
       "4 as a snack      2\n",
       "6 as a snack      1\n",
       "Name: count, dtype: int64"
      ]
     },
     "execution_count": 6,
     "metadata": {},
     "output_type": "execute_result"
    }
   ],
   "source": [
    "df[\"servings\"].value_counts()"
   ]
  },
  {
   "cell_type": "code",
   "execution_count": 7,
   "metadata": {},
   "outputs": [
    {
     "data": {
      "text/plain": [
       "servings\n",
       "4    391\n",
       "6    198\n",
       "2    183\n",
       "1    175\n",
       "Name: count, dtype: int64"
      ]
     },
     "execution_count": 7,
     "metadata": {},
     "output_type": "execute_result"
    }
   ],
   "source": [
    "# validate 1, 2, 4, 6 servings group\n",
    "df[\"servings\"].replace({'4 as a snack':'4','6 as a snack':'6'},inplace=True)\n",
    "df[\"servings\"] = df[\"servings\"].astype(int)\n",
    "df[\"servings\"].value_counts()"
   ]
  },
  {
   "cell_type": "markdown",
   "metadata": {},
   "source": [
    "**4. High_traffic Variable**"
   ]
  },
  {
   "cell_type": "code",
   "execution_count": 8,
   "metadata": {},
   "outputs": [
    {
     "data": {
      "text/plain": [
       "high_traffic\n",
       "High    574\n",
       "NaN     373\n",
       "Name: count, dtype: int64"
      ]
     },
     "execution_count": 8,
     "metadata": {},
     "output_type": "execute_result"
    }
   ],
   "source": [
    "df[\"high_traffic\"].value_counts(dropna=False)"
   ]
  },
  {
   "cell_type": "code",
   "execution_count": 9,
   "metadata": {},
   "outputs": [
    {
     "data": {
      "text/plain": [
       "high_traffic\n",
       "High      574\n",
       "Normal    373\n",
       "Name: count, dtype: int64"
      ]
     },
     "execution_count": 9,
     "metadata": {},
     "output_type": "execute_result"
    }
   ],
   "source": [
    "df[\"high_traffic\"].fillna('Normal',inplace=True)\n",
    "df[\"high_traffic\"].value_counts()"
   ]
  },
  {
   "cell_type": "markdown",
   "metadata": {},
   "source": [
    "**5, 6, 7 and 8 Variables Missing Values Analysis**"
   ]
  },
  {
   "cell_type": "code",
   "execution_count": 10,
   "metadata": {},
   "outputs": [
    {
     "data": {
      "text/plain": [
       "recipe           0\n",
       "calories        52\n",
       "carbohydrate    52\n",
       "sugar           52\n",
       "protein         52\n",
       "category         0\n",
       "servings         0\n",
       "high_traffic     0\n",
       "dtype: int64"
      ]
     },
     "execution_count": 10,
     "metadata": {},
     "output_type": "execute_result"
    }
   ],
   "source": [
    "df.isnull().sum()"
   ]
  },
  {
   "cell_type": "markdown",
   "metadata": {},
   "source": [
    "- Missing values occur simultaneously in calories, carbohydrate, sugar and protein variables of data"
   ]
  },
  {
   "cell_type": "code",
   "execution_count": 288,
   "metadata": {},
   "outputs": [
    {
     "data": {
      "image/png": "[encoded data removed]",
      "text/plain": [
       "<Figure size 1000x600 with 1 Axes>"
      ]
     },
     "metadata": {},
     "output_type": "display_data"
    }
   ],
   "source": [
    "fig, ax = plt.subplots(figsize=(10, 6))  \n",
    "msno.matrix(df, ax=ax)  \n",
    "plt.show()"
   ]
  },
  {
   "cell_type": "markdown",
   "metadata": {},
   "source": [
    "- Validation that missing data occur simultaneously. Total count is 52"
   ]
  },
  {
   "cell_type": "code",
   "execution_count": 289,
   "metadata": {},
   "outputs": [
    {
     "data": {
      "text/plain": [
       "52"
      ]
     },
     "execution_count": 289,
     "metadata": {},
     "output_type": "execute_result"
    }
   ],
   "source": [
    "df.loc[df.select_dtypes(include='float64').isnull().all(axis=1),\"category\"].count()"
   ]
  },
  {
   "cell_type": "markdown",
   "metadata": {},
   "source": [
    "- Category-based analysis of missing data"
   ]
  },
  {
   "cell_type": "markdown",
   "metadata": {},
   "source": [
    "General category distribution: \n",
    "- Although the Breakfast vs Chicken Breast categories are at the forefront, the categories seem to be approximately balanced."
   ]
  },
  {
   "cell_type": "code",
   "execution_count": 290,
   "metadata": {},
   "outputs": [
    {
     "data": {
      "text/plain": [
       "category\n",
       "Breakfast         11.193242\n",
       "Chicken Breast    10.348469\n",
       "Beverages          9.714889\n",
       "Lunch/Snacks       9.398099\n",
       "Potato             9.292503\n",
       "Pork               8.870116\n",
       "Dessert            8.764520\n",
       "Vegetable          8.764520\n",
       "Meat               8.342133\n",
       "Chicken            7.814150\n",
       "One Dish Meal      7.497360\n",
       "Name: proportion, dtype: float64"
      ]
     },
     "execution_count": 290,
     "metadata": {},
     "output_type": "execute_result"
    }
   ],
   "source": [
    "#Percentage distributions of categories\n",
    "df[\"category\"].value_counts(normalize=True) * 100"
   ]
  },
  {
   "cell_type": "markdown",
   "metadata": {},
   "source": [
    "Category distribution of missing values: \n",
    "- It was determined that missing data was more in the Pork and Lunch/Snacks categories and there was no missing data in the Beverages and Breakfast categories.Additionally, the rate of categories with missing data is quite low compared to other categories."
   ]
  },
  {
   "cell_type": "code",
   "execution_count": 291,
   "metadata": {},
   "outputs": [
    {
     "data": {
      "text/plain": [
       "category\n",
       "Pork              21.153846\n",
       "Lunch/Snacks      13.461538\n",
       "Dessert           11.538462\n",
       "Chicken            9.615385\n",
       "Meat               9.615385\n",
       "Potato             9.615385\n",
       "Vegetable          9.615385\n",
       "Chicken Breast     7.692308\n",
       "One Dish Meal      7.692308\n",
       "Beverages          0.000000\n",
       "Breakfast          0.000000\n",
       "Name: proportion, dtype: float64"
      ]
     },
     "execution_count": 291,
     "metadata": {},
     "output_type": "execute_result"
    }
   ],
   "source": [
    "#Percentage distributions of categories with missing numeric values\n",
    "df.loc[df.select_dtypes(include='float64').isnull().all(axis=1),\"category\"].value_counts(normalize=True) * 100"
   ]
  },
  {
   "cell_type": "markdown",
   "metadata": {},
   "source": [
    "Related Visualizations that mentioned above. Bar plots show the counts of each categories"
   ]
  },
  {
   "cell_type": "code",
   "execution_count": 292,
   "metadata": {},
   "outputs": [
    {
     "data": {
      "image/png": "[encoded data removed]",
      "text/plain": [
       "<Figure size 1000x600 with 2 Axes>"
      ]
     },
     "metadata": {},
     "output_type": "display_data"
    }
   ],
   "source": [
    "category_counts = df[\"category\"].value_counts()\n",
    "missing_value_category_counts = df.loc[df.select_dtypes(include='float64').isnull().all(axis=1),\"category\"].value_counts()\n",
    "\n",
    "fix, (ax1,ax2) = plt.subplots(1,2, figsize=(10,6))\n",
    "ax1=sns.barplot(x=category_counts.index, y=category_counts,color='gray',order=category_counts.index,ax=ax1)\n",
    "ax1.set_title('General Category Distributions')\n",
    "ax1.set_xlabel('Category Names')\n",
    "ax1.set_ylabel('Category Count')\n",
    "ax1.set_xticklabels(ax1.get_xticklabels(), rotation=45)\n",
    "\n",
    "ax2=sns.barplot(x=missing_value_category_counts.index,y=missing_value_category_counts,order=missing_value_category_counts.index,color='gray',ax=ax2)\n",
    "ax2.set_title('Category Distributions with Missing Values')\n",
    "ax2.set_xlabel('Category Names')\n",
    "ax2.set_ylabel('Category Count')\n",
    "ax2.set_xticklabels(ax2.get_xticklabels(), rotation=45)\n",
    "plt.tight_layout()\n",
    "plt.show()"
   ]
  },
  {
   "cell_type": "markdown",
   "metadata": {},
   "source": [
    "- Target variable-based analysis of missing data"
   ]
  },
  {
   "cell_type": "markdown",
   "metadata": {},
   "source": [
    "General high_traffic distribution:\n",
    "- There are 574 High traffic values and 373 Normal traffic values in the general of the data."
   ]
  },
  {
   "cell_type": "code",
   "execution_count": 293,
   "metadata": {},
   "outputs": [
    {
     "data": {
      "text/plain": [
       "high_traffic\n",
       "High      574\n",
       "Normal    373\n",
       "Name: count, dtype: int64"
      ]
     },
     "execution_count": 293,
     "metadata": {},
     "output_type": "execute_result"
    }
   ],
   "source": [
    "df[\"high_traffic\"].value_counts()"
   ]
  },
  {
   "cell_type": "markdown",
   "metadata": {},
   "source": [
    "Missing values at high traffic distribution:\n",
    " - It was determined that 39 of the 52 missing data that occurred simultaneously in the calories, carbohydrate, sugar and protein variables were in the High category and 13 of them were in the normal category."
   ]
  },
  {
   "cell_type": "code",
   "execution_count": 294,
   "metadata": {},
   "outputs": [
    {
     "data": {
      "text/plain": [
       "high_traffic\n",
       "High      39\n",
       "Normal    13\n",
       "Name: count, dtype: int64"
      ]
     },
     "execution_count": 294,
     "metadata": {},
     "output_type": "execute_result"
    }
   ],
   "source": [
    "df.loc[df.select_dtypes(include='float64').isnull().all(axis=1),\"high_traffic\"].value_counts()"
   ]
  },
  {
   "cell_type": "markdown",
   "metadata": {},
   "source": [
    "Conclusion about missing values:\n",
    "\n",
    "- Missing data were examined categorically and on a target variable basis. According to this\n",
    "1. Missing data occurred simultaneously in the variables calories, carbohydrate, sugar and protein and is in 52 lines.\n",
    "2. Missing data occurred in the categories Pork,Potato, One Dish Meal, Chicken Breast, Lunch/Snacks, Chicken, Vegetable, Meat and Dessert. There is no missing data in the Breakfast and Beverages categories.\n",
    "3. In the high_traffic variable, 39 of the missing data are in the High category and 13 of them are in the Normal category.\n",
    "\n",
    "The reason why missing data are in certain categories and numerical variables are present at the same time may be due to a systematic error in the data collection phase in the relevant categories.\n",
    "\n",
    "Since the missing data was in the calories, carbohydrate, sugar and protein variables at the same time, and because it was approximately 5% of the entire data set, and finally, deleting it would not affect the class balance in the target variable high_traffic, I cleaned these data by removing them from the data set. "
   ]
  },
  {
   "cell_type": "code",
   "execution_count": 295,
   "metadata": {},
   "outputs": [
    {
     "data": {
      "text/plain": [
       "52.085"
      ]
     },
     "execution_count": 295,
     "metadata": {},
     "output_type": "execute_result"
    }
   ],
   "source": [
    "# Missing data threshold approximately %5 of whole data\n",
    "threshold = len(df) * 0.055\n",
    "threshold"
   ]
  },
  {
   "cell_type": "code",
   "execution_count": 296,
   "metadata": {},
   "outputs": [
    {
     "data": {
      "text/plain": [
       "Index(['recipe', 'calories', 'carbohydrate', 'sugar', 'protein', 'category',\n",
       "       'servings', 'high_traffic'],\n",
       "      dtype='object')"
      ]
     },
     "execution_count": 296,
     "metadata": {},
     "output_type": "execute_result"
    }
   ],
   "source": [
    "cols_to_drop = df.columns[df.isnull().sum() <= threshold]\n",
    "cols_to_drop"
   ]
  },
  {
   "cell_type": "code",
   "execution_count": 297,
   "metadata": {},
   "outputs": [],
   "source": [
    "df.dropna(subset=cols_to_drop, axis = 0, inplace = True) "
   ]
  },
  {
   "cell_type": "code",
   "execution_count": 298,
   "metadata": {},
   "outputs": [],
   "source": [
    "df.reset_index(drop=True,inplace=True)"
   ]
  },
  {
   "cell_type": "code",
   "execution_count": 299,
   "metadata": {},
   "outputs": [
    {
     "name": "stdout",
     "output_type": "stream",
     "text": [
      "<class 'pandas.core.frame.DataFrame'>\n",
      "RangeIndex: 895 entries, 0 to 894\n",
      "Data columns (total 8 columns):\n",
      " #   Column        Non-Null Count  Dtype   \n",
      "---  ------        --------------  -----   \n",
      " 0   recipe        895 non-null    int64   \n",
      " 1   calories      895 non-null    float64 \n",
      " 2   carbohydrate  895 non-null    float64 \n",
      " 3   sugar         895 non-null    float64 \n",
      " 4   protein       895 non-null    float64 \n",
      " 5   category      895 non-null    category\n",
      " 6   servings      895 non-null    int32   \n",
      " 7   high_traffic  895 non-null    object  \n",
      "dtypes: category(1), float64(4), int32(1), int64(1), object(1)\n",
      "memory usage: 46.8+ KB\n"
     ]
    }
   ],
   "source": [
    "df.info()"
   ]
  },
  {
   "cell_type": "code",
   "execution_count": 300,
   "metadata": {},
   "outputs": [
    {
     "data": {
      "text/plain": [
       "recipe          0\n",
       "calories        0\n",
       "carbohydrate    0\n",
       "sugar           0\n",
       "protein         0\n",
       "category        0\n",
       "servings        0\n",
       "high_traffic    0\n",
       "dtype: int64"
      ]
     },
     "execution_count": 300,
     "metadata": {},
     "output_type": "execute_result"
    }
   ],
   "source": [
    "df.isnull().sum()"
   ]
  },
  {
   "cell_type": "code",
   "execution_count": 303,
   "metadata": {},
   "outputs": [
    {
     "data": {
      "text/plain": [
       "(895, 8)"
      ]
     },
     "execution_count": 303,
     "metadata": {},
     "output_type": "execute_result"
    }
   ],
   "source": [
    "df.shape"
   ]
  },
  {
   "cell_type": "markdown",
   "metadata": {},
   "source": [
    "- Final cleaned data"
   ]
  },
  {
   "cell_type": "code",
   "execution_count": 302,
   "metadata": {},
   "outputs": [
    {
     "data": {
      "text/html": [
       "<div>\n",
       "<style scoped>\n",
       "    .dataframe tbody tr th:only-of-type {\n",
       "        vertical-align: middle;\n",
       "    }\n",
       "\n",
       "    .dataframe tbody tr th {\n",
       "        vertical-align: top;\n",
       "    }\n",
       "\n",
       "    .dataframe thead th {\n",
       "        text-align: right;\n",
       "    }\n",
       "</style>\n",
       "<table border=\"1\" class=\"dataframe\">\n",
       "  <thead>\n",
       "    <tr style=\"text-align: right;\">\n",
       "      <th></th>\n",
       "      <th>recipe</th>\n",
       "      <th>calories</th>\n",
       "      <th>carbohydrate</th>\n",
       "      <th>sugar</th>\n",
       "      <th>protein</th>\n",
       "      <th>category</th>\n",
       "      <th>servings</th>\n",
       "      <th>high_traffic</th>\n",
       "    </tr>\n",
       "  </thead>\n",
       "  <tbody>\n",
       "    <tr>\n",
       "      <th>0</th>\n",
       "      <td>2</td>\n",
       "      <td>35.48</td>\n",
       "      <td>38.56</td>\n",
       "      <td>0.66</td>\n",
       "      <td>0.92</td>\n",
       "      <td>Potato</td>\n",
       "      <td>4</td>\n",
       "      <td>High</td>\n",
       "    </tr>\n",
       "    <tr>\n",
       "      <th>1</th>\n",
       "      <td>3</td>\n",
       "      <td>914.28</td>\n",
       "      <td>42.68</td>\n",
       "      <td>3.09</td>\n",
       "      <td>2.88</td>\n",
       "      <td>Breakfast</td>\n",
       "      <td>1</td>\n",
       "      <td>Normal</td>\n",
       "    </tr>\n",
       "    <tr>\n",
       "      <th>2</th>\n",
       "      <td>4</td>\n",
       "      <td>97.03</td>\n",
       "      <td>30.56</td>\n",
       "      <td>38.63</td>\n",
       "      <td>0.02</td>\n",
       "      <td>Beverages</td>\n",
       "      <td>4</td>\n",
       "      <td>High</td>\n",
       "    </tr>\n",
       "    <tr>\n",
       "      <th>3</th>\n",
       "      <td>5</td>\n",
       "      <td>27.05</td>\n",
       "      <td>1.85</td>\n",
       "      <td>0.80</td>\n",
       "      <td>0.53</td>\n",
       "      <td>Beverages</td>\n",
       "      <td>4</td>\n",
       "      <td>Normal</td>\n",
       "    </tr>\n",
       "    <tr>\n",
       "      <th>4</th>\n",
       "      <td>6</td>\n",
       "      <td>691.15</td>\n",
       "      <td>3.46</td>\n",
       "      <td>1.65</td>\n",
       "      <td>53.93</td>\n",
       "      <td>One Dish Meal</td>\n",
       "      <td>2</td>\n",
       "      <td>High</td>\n",
       "    </tr>\n",
       "  </tbody>\n",
       "</table>\n",
       "</div>"
      ],
      "text/plain": [
       "   recipe  calories  carbohydrate  sugar  protein       category  servings  \\\n",
       "0       2     35.48         38.56   0.66     0.92         Potato         4   \n",
       "1       3    914.28         42.68   3.09     2.88      Breakfast         1   \n",
       "2       4     97.03         30.56  38.63     0.02      Beverages         4   \n",
       "3       5     27.05          1.85   0.80     0.53      Beverages         4   \n",
       "4       6    691.15          3.46   1.65    53.93  One Dish Meal         2   \n",
       "\n",
       "  high_traffic  \n",
       "0         High  \n",
       "1       Normal  \n",
       "2         High  \n",
       "3       Normal  \n",
       "4         High  "
      ]
     },
     "execution_count": 302,
     "metadata": {},
     "output_type": "execute_result"
    }
   ],
   "source": [
    "df.head()"
   ]
  },
  {
   "cell_type": "code",
   "execution_count": 306,
   "metadata": {},
   "outputs": [
    {
     "data": {
      "text/html": [
       "<div>\n",
       "<style scoped>\n",
       "    .dataframe tbody tr th:only-of-type {\n",
       "        vertical-align: middle;\n",
       "    }\n",
       "\n",
       "    .dataframe tbody tr th {\n",
       "        vertical-align: top;\n",
       "    }\n",
       "\n",
       "    .dataframe thead th {\n",
       "        text-align: right;\n",
       "    }\n",
       "</style>\n",
       "<table border=\"1\" class=\"dataframe\">\n",
       "  <thead>\n",
       "    <tr style=\"text-align: right;\">\n",
       "      <th></th>\n",
       "      <th>count</th>\n",
       "      <th>mean</th>\n",
       "      <th>std</th>\n",
       "      <th>min</th>\n",
       "      <th>25%</th>\n",
       "      <th>50%</th>\n",
       "      <th>75%</th>\n",
       "      <th>max</th>\n",
       "    </tr>\n",
       "  </thead>\n",
       "  <tbody>\n",
       "    <tr>\n",
       "      <th>recipe</th>\n",
       "      <td>895.0</td>\n",
       "      <td>473.652514</td>\n",
       "      <td>272.763283</td>\n",
       "      <td>2.00</td>\n",
       "      <td>237.500</td>\n",
       "      <td>475.00</td>\n",
       "      <td>708.500</td>\n",
       "      <td>947.00</td>\n",
       "    </tr>\n",
       "    <tr>\n",
       "      <th>calories</th>\n",
       "      <td>895.0</td>\n",
       "      <td>435.939196</td>\n",
       "      <td>453.020997</td>\n",
       "      <td>0.14</td>\n",
       "      <td>110.430</td>\n",
       "      <td>288.55</td>\n",
       "      <td>597.650</td>\n",
       "      <td>3633.16</td>\n",
       "    </tr>\n",
       "    <tr>\n",
       "      <th>carbohydrate</th>\n",
       "      <td>895.0</td>\n",
       "      <td>35.069676</td>\n",
       "      <td>43.949032</td>\n",
       "      <td>0.03</td>\n",
       "      <td>8.375</td>\n",
       "      <td>21.48</td>\n",
       "      <td>44.965</td>\n",
       "      <td>530.42</td>\n",
       "    </tr>\n",
       "    <tr>\n",
       "      <th>sugar</th>\n",
       "      <td>895.0</td>\n",
       "      <td>9.046547</td>\n",
       "      <td>14.679176</td>\n",
       "      <td>0.01</td>\n",
       "      <td>1.690</td>\n",
       "      <td>4.55</td>\n",
       "      <td>9.800</td>\n",
       "      <td>148.75</td>\n",
       "    </tr>\n",
       "    <tr>\n",
       "      <th>protein</th>\n",
       "      <td>895.0</td>\n",
       "      <td>24.149296</td>\n",
       "      <td>36.369739</td>\n",
       "      <td>0.00</td>\n",
       "      <td>3.195</td>\n",
       "      <td>10.80</td>\n",
       "      <td>30.200</td>\n",
       "      <td>363.36</td>\n",
       "    </tr>\n",
       "    <tr>\n",
       "      <th>servings</th>\n",
       "      <td>895.0</td>\n",
       "      <td>3.458101</td>\n",
       "      <td>1.735979</td>\n",
       "      <td>1.00</td>\n",
       "      <td>2.000</td>\n",
       "      <td>4.00</td>\n",
       "      <td>4.000</td>\n",
       "      <td>6.00</td>\n",
       "    </tr>\n",
       "  </tbody>\n",
       "</table>\n",
       "</div>"
      ],
      "text/plain": [
       "              count        mean         std   min      25%     50%      75%  \\\n",
       "recipe        895.0  473.652514  272.763283  2.00  237.500  475.00  708.500   \n",
       "calories      895.0  435.939196  453.020997  0.14  110.430  288.55  597.650   \n",
       "carbohydrate  895.0   35.069676   43.949032  0.03    8.375   21.48   44.965   \n",
       "sugar         895.0    9.046547   14.679176  0.01    1.690    4.55    9.800   \n",
       "protein       895.0   24.149296   36.369739  0.00    3.195   10.80   30.200   \n",
       "servings      895.0    3.458101    1.735979  1.00    2.000    4.00    4.000   \n",
       "\n",
       "                  max  \n",
       "recipe         947.00  \n",
       "calories      3633.16  \n",
       "carbohydrate   530.42  \n",
       "sugar          148.75  \n",
       "protein        363.36  \n",
       "servings         6.00  "
      ]
     },
     "execution_count": 306,
     "metadata": {},
     "output_type": "execute_result"
    }
   ],
   "source": [
    "# Validate any negative values in numeric variables\n",
    "df.describe().T"
   ]
  },
  {
   "cell_type": "markdown",
   "metadata": {},
   "source": [
    "**Explatory Analysis**"
   ]
  },
  {
   "cell_type": "code",
   "execution_count": null,
   "metadata": {},
   "outputs": [],
   "source": []
  }
 ],
 "metadata": {
  "kernelspec": {
   "display_name": "venv",
   "language": "python",
   "name": "python3"
  },
  "language_info": {
   "codemirror_mode": {
    "name": "ipython",
    "version": 3
   },
   "file_extension": ".py",
   "mimetype": "text/x-python",
   "name": "python",
   "nbconvert_exporter": "python",
   "pygments_lexer": "ipython3",
   "version": "3.11.5"
  }
 },
 "nbformat": 4,
 "nbformat_minor": 2
}
